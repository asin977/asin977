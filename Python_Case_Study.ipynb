{
  "nbformat": 4,
  "nbformat_minor": 0,
  "metadata": {
    "colab": {
      "provenance": [],
      "authorship_tag": "ABX9TyP10SXMAexxb8ss3dIgG4Hj",
      "include_colab_link": true
    },
    "kernelspec": {
      "name": "python3",
      "display_name": "Python 3"
    },
    "language_info": {
      "name": "python"
    }
  },
  "cells": [
    {
      "cell_type": "markdown",
      "metadata": {
        "id": "view-in-github",
        "colab_type": "text"
      },
      "source": [
        "<a href=\"https://colab.research.google.com/github/asin977/asin977/blob/main/Python_Case_Study.ipynb\" target=\"_parent\"><img src=\"https://colab.research.google.com/assets/colab-badge.svg\" alt=\"Open In Colab\"/></a>"
      ]
    },
    {
      "cell_type": "code",
      "execution_count": null,
      "metadata": {
        "id": "myzasFfSo5cP"
      },
      "outputs": [],
      "source": [
        "                       #        1. Grocery Store Bill Calculator\n",
        " # A grocery store wants a program to calculate the total bill for a customer.\n",
        " # a. Store the prices of items in a dictionary (e.g., {'apple': 10, 'milk': 50})\n",
        " # b. Take the items purchased and their quantities as input.\n",
        " # c. Calculate and display the total bill amount."
      ]
    },
    {
      "cell_type": "code",
      "source": [
        "prices = {'apple': 10, 'milk': 50, 'bread': 30, 'eggs': 5}\n",
        "print(\"Available items and their prices:\")\n",
        "# Step 2: Take input for items purchased and their quantities\n",
        "\n",
        "for item, price in prices.items():\n",
        "    print(f\"{item}: {price} per unit\")\n",
        "\n",
        "print(\"\\nEnter the items purchased and their quantities (e.g., apple 2). Type 'done' when finished.\")\n",
        "purchased_items = {'apple': 5, 'egg': 2, 'bread': 15, 'milk': 25}\n",
        "\n",
        "\n",
        "while True:\n",
        "    user_input = input(\"Item and quantity: \").strip().lower()\n",
        "    if user_input == \"done\":\n",
        "        break\n",
        "    try:\n",
        "        item, quantity = user_input.split()\n",
        "        quantity = int(quantity)\n",
        "        if item in prices:\n",
        "            if item in purchased_items:\n",
        "                purchased_items[item] += quantity\n",
        "            else:\n",
        "                purchased_items[item] = quantity\n",
        "        else:\n",
        "            print(f\"Item '{item}' not found in the store.\")\n",
        "\n",
        "# Step 3: Calculate and display the total bill\n",
        "purchased_items = {'apple': 5, 'eggs':6 , 'bread': 1, 'milk': 1}\n",
        "total_bill = 0\n",
        "print(\"\\nBill breakdown:\")\n",
        "for item, quantity in purchased_items.items():\n",
        "    item_cost = prices[item] * quantity\n",
        "    total_bill += item_cost\n",
        "    print(f\"{item}: {quantity} x {prices[item]} = {item_cost}\")\n",
        "\n",
        "print(f\"\\nTotal Bill Amount: {total_bill}\")"
      ],
      "metadata": {
        "colab": {
          "base_uri": "https://localhost:8080/"
        },
        "id": "pymeGOwgpI4u",
        "outputId": "53a96f59-8028-45fc-a985-e2c9b2d9eaee"
      },
      "execution_count": null,
      "outputs": [
        {
          "output_type": "stream",
          "name": "stdout",
          "text": [
            "Available items and their prices:\n",
            "apple: 10 per unit\n",
            "milk: 50 per unit\n",
            "bread: 30 per unit\n",
            "eggs: 5 per unit\n",
            "\n",
            "Enter the items purchased and their quantities (e.g., apple 2). Type 'done' when finished.\n",
            "Item and quantity: apple 5\n",
            "Item and quantity: bread 1\n",
            "Item and quantity: milk 1\n",
            "Item and quantity: done\n",
            "\n",
            "Bill breakdown:\n",
            "apple: 5 x 10 = 50\n",
            "eggs: 6 x 5 = 30\n",
            "bread: 1 x 30 = 30\n",
            "milk: 1 x 50 = 50\n",
            "\n",
            "Total Bill Amount: 160\n"
          ]
        }
      ]
    },
    {
      "cell_type": "markdown",
      "source": [
        "2. Student Grade Calculator\n",
        "A teacher wants a program to calculate grades for students based on their marks.\n",
        "a. Store marks for 5 subjects in a list.\n",
        "b. Calculate the average and determine the grade:\n",
        "o 90+ -> A\n",
        "o 70-89 -> B\n",
        "o 50-69 -> C\n",
        "o <50 -> F\n",
        "c. Display the average and the grade."
      ],
      "metadata": {
        "id": "y6a_Wdi0qLxF"
      }
    },
    {
      "cell_type": "code",
      "source": [
        "# Step 1: Input marks for 5 subjects\n",
        "print(\"Enter marks for 5 subjects (out of 100):\")\n",
        "marks = []\n",
        "for i in range(1, 6):\n",
        "    while True:\n",
        "        try:\n",
        "            mark = float(input(f\"Subject {i}: \"))\n",
        "            if 0 <= mark <= 100:\n",
        "                marks.append(mark)\n",
        "                break\n",
        "            else:\n",
        "                print(\"Marks must be between 0 and 100. Please try again.\")\n",
        "\n",
        "# Step 2: Calculate the average\n",
        "average = sum(marks) / len(marks)\n",
        "\n",
        "# Step 3: Determine the grade\n",
        "if average >= 90:\n",
        "    grade = \"A\"\n",
        "elif 70 <= average < 90:\n",
        "    grade = \"B\"\n",
        "elif 50 <= average < 70:\n",
        "    grade = \"C\"\n",
        "else:\n",
        "    grade = \"F\"\n",
        "\n",
        "# Step 4: Display the average and grade\n",
        "print(f\"\\nAverage Marks: {average:.2f}\")\n",
        "print(f\"Grade: {grade}\")"
      ],
      "metadata": {
        "colab": {
          "base_uri": "https://localhost:8080/"
        },
        "id": "ZP2c3mY_qbRh",
        "outputId": "bd549154-07ad-4eb1-83b6-afee23013ad5"
      },
      "execution_count": 3,
      "outputs": [
        {
          "output_type": "stream",
          "name": "stdout",
          "text": [
            "Enter marks for 5 subjects (out of 100):\n",
            "Subject 1: 80\n",
            "Subject 2: 90\n",
            "Subject 3: 100\n",
            "Subject 4: 59\n",
            "Subject 5: 79\n",
            "\n",
            "Average Marks: 81.60\n",
            "Grade: B\n"
          ]
        }
      ]
    },
    {
      "cell_type": "markdown",
      "source": [
        "3. A movie theatre wants to automate ticket booking for customers.\n",
        "a. Use a list to store the available seats (e.g., [1, 2, 3, ..., 20]).\n",
        "b. Allow the customer to book a seat by entering the seat number.\n",
        "c. After booking, remove the seat from the list of available seats.\n",
        "d. Display the remaining available seats\n",
        "\n",
        "\n"
      ],
      "metadata": {
        "id": "nCcxw6YEsyqP"
      }
    },
    {
      "cell_type": "code",
      "source": [
        "# Step 1: Initialize the list of available seats\n",
        "available_seats = list(range(1, 21))  # Seats numbered from 1 to 20\n",
        "\n",
        "def display_available_seats():\n",
        "    \"\"\"Displays the list of available seats.\"\"\"\n",
        "    if available_seats:\n",
        "        print(f\"Available seats: {available_seats}\")\n",
        "    else:\n",
        "        print(\"No seats available.\")\n",
        "\n",
        "# Step 2: Allow customer to book seats\n",
        "while True:\n",
        "    display_available_seats()\n",
        "    user_input = input(\"\\nEnter the seat number you want to book (or type 'exit' to quit): \").strip()\n",
        "    if user_input.lower() == \"exit\":\n",
        "        print(\"Thank you for using the ticket booking system!\")\n",
        "        break\n",
        "    try:\n",
        "        seat_number = int(user_input)\n",
        "        if seat_number in available_seats:\n",
        "            available_seats.remove(seat_number)\n",
        "            print(f\"Seat {seat_number} has been successfully booked.\")\n",
        "        else:\n",
        "            print(f\"Seat {seat_number} is either already booked or invalid. Please try again.\")\n",
        "    print('invalid input.Please enter a valid seat number.')"
      ],
      "metadata": {
        "colab": {
          "base_uri": "https://localhost:8080/"
        },
        "id": "_nnenntIs8f8",
        "outputId": "fa0fb31d-a143-499e-be1b-23130487af07"
      },
      "execution_count": 4,
      "outputs": [
        {
          "output_type": "stream",
          "name": "stdout",
          "text": [
            "Available seats: [1, 2, 3, 4, 5, 6, 7, 8, 9, 10, 11, 12, 13, 14, 15, 16, 17, 18, 19, 20]\n",
            "\n",
            "Enter the seat number you want to book (or type 'exit' to quit): 10\n",
            "Seat 10 has been successfully booked.\n",
            "Available seats: [1, 2, 3, 4, 5, 6, 7, 8, 9, 11, 12, 13, 14, 15, 16, 17, 18, 19, 20]\n",
            "\n",
            "Enter the seat number you want to book (or type 'exit' to quit): exit\n",
            "Thank you for using the ticket booking system!\n"
          ]
        }
      ]
    }
  ]
}